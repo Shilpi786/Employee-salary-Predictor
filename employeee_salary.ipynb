{
  "cells": [
    {
      "cell_type": "markdown",
      "metadata": {
        "id": "view-in-github",
        "colab_type": "text"
      },
      "source": [
        "<a href=\"https://colab.research.google.com/github/Shilpi786/Employee-salary-Predictor/blob/main/employeee_salary.ipynb\" target=\"_parent\"><img src=\"https://colab.research.google.com/assets/colab-badge.svg\" alt=\"Open In Colab\"/></a>"
      ]
    },
    {
      "cell_type": "code",
      "source": [
        "#import libraries\n",
        "\n",
        "import joblib\n",
        "from sklearn.model_selection import train_test_split\n",
        "from sklearn.linear_model import LogisticRegression\n",
        "from sklearn.preprocessing import LabelEncoder\n",
        "from sklearn.metrics import accuracy_score"
      ],
      "metadata": {
        "id": "6eNTkNZCyHmf"
      },
      "execution_count": null,
      "outputs": []
    },
    {
      "cell_type": "code",
      "source": [
        "#load data set\n",
        "import pandas as pd\n",
        "df = pd.read_csv('/content/adult.csv')\n",
        "print(df)"
      ],
      "metadata": {
        "colab": {
          "base_uri": "https://localhost:8080/"
        },
        "id": "gKBYR76b2Kke",
        "outputId": "3332314c-5a35-4a14-cc46-e83a9523e571"
      },
      "execution_count": null,
      "outputs": [
        {
          "output_type": "stream",
          "name": "stdout",
          "text": [
            "       age     workclass  fnlwgt     education  educational-num  \\\n",
            "0       25       Private  226802          11th                7   \n",
            "1       38       Private   89814       HS-grad                9   \n",
            "2       28     Local-gov  336951    Assoc-acdm               12   \n",
            "3       44       Private  160323  Some-college               10   \n",
            "4       18             ?  103497  Some-college               10   \n",
            "...    ...           ...     ...           ...              ...   \n",
            "48837   27       Private  257302    Assoc-acdm               12   \n",
            "48838   40       Private  154374       HS-grad                9   \n",
            "48839   58       Private  151910       HS-grad                9   \n",
            "48840   22       Private  201490       HS-grad                9   \n",
            "48841   52  Self-emp-inc  287927       HS-grad                9   \n",
            "\n",
            "           marital-status         occupation relationship   race  gender  \\\n",
            "0           Never-married  Machine-op-inspct    Own-child  Black    Male   \n",
            "1      Married-civ-spouse    Farming-fishing      Husband  White    Male   \n",
            "2      Married-civ-spouse    Protective-serv      Husband  White    Male   \n",
            "3      Married-civ-spouse  Machine-op-inspct      Husband  Black    Male   \n",
            "4           Never-married                  ?    Own-child  White  Female   \n",
            "...                   ...                ...          ...    ...     ...   \n",
            "48837  Married-civ-spouse       Tech-support         Wife  White  Female   \n",
            "48838  Married-civ-spouse  Machine-op-inspct      Husband  White    Male   \n",
            "48839             Widowed       Adm-clerical    Unmarried  White  Female   \n",
            "48840       Never-married       Adm-clerical    Own-child  White    Male   \n",
            "48841  Married-civ-spouse    Exec-managerial         Wife  White  Female   \n",
            "\n",
            "       capital-gain  capital-loss  hours-per-week native-country income  \n",
            "0                 0             0              40  United-States  <=50K  \n",
            "1                 0             0              50  United-States  <=50K  \n",
            "2                 0             0              40  United-States   >50K  \n",
            "3              7688             0              40  United-States   >50K  \n",
            "4                 0             0              30  United-States  <=50K  \n",
            "...             ...           ...             ...            ...    ...  \n",
            "48837             0             0              38  United-States  <=50K  \n",
            "48838             0             0              40  United-States   >50K  \n",
            "48839             0             0              40  United-States  <=50K  \n",
            "48840             0             0              20  United-States  <=50K  \n",
            "48841         15024             0              40  United-States   >50K  \n",
            "\n",
            "[48842 rows x 15 columns]\n"
          ]
        }
      ]
    },
    {
      "cell_type": "code",
      "source": [
        "#view first 10 rows and last 5 row\n",
        "print(df.head(10))\n",
        "print(df.tail(3))"
      ],
      "metadata": {
        "colab": {
          "base_uri": "https://localhost:8080/"
        },
        "id": "LDIADE5VhlaQ",
        "outputId": "2c24facf-04ef-4f95-b620-fef8dd1036ac"
      },
      "execution_count": null,
      "outputs": [
        {
          "output_type": "stream",
          "name": "stdout",
          "text": [
            "   age         workclass  fnlwgt     education  educational-num  \\\n",
            "0   25           Private  226802          11th                7   \n",
            "1   38           Private   89814       HS-grad                9   \n",
            "2   28         Local-gov  336951    Assoc-acdm               12   \n",
            "3   44           Private  160323  Some-college               10   \n",
            "4   18                 ?  103497  Some-college               10   \n",
            "5   34           Private  198693          10th                6   \n",
            "6   29                 ?  227026       HS-grad                9   \n",
            "7   63  Self-emp-not-inc  104626   Prof-school               15   \n",
            "8   24           Private  369667  Some-college               10   \n",
            "9   55           Private  104996       7th-8th                4   \n",
            "\n",
            "       marital-status         occupation   relationship   race  gender  \\\n",
            "0       Never-married  Machine-op-inspct      Own-child  Black    Male   \n",
            "1  Married-civ-spouse    Farming-fishing        Husband  White    Male   \n",
            "2  Married-civ-spouse    Protective-serv        Husband  White    Male   \n",
            "3  Married-civ-spouse  Machine-op-inspct        Husband  Black    Male   \n",
            "4       Never-married                  ?      Own-child  White  Female   \n",
            "5       Never-married      Other-service  Not-in-family  White    Male   \n",
            "6       Never-married                  ?      Unmarried  Black    Male   \n",
            "7  Married-civ-spouse     Prof-specialty        Husband  White    Male   \n",
            "8       Never-married      Other-service      Unmarried  White  Female   \n",
            "9  Married-civ-spouse       Craft-repair        Husband  White    Male   \n",
            "\n",
            "   capital-gain  capital-loss  hours-per-week native-country income  \n",
            "0             0             0              40  United-States  <=50K  \n",
            "1             0             0              50  United-States  <=50K  \n",
            "2             0             0              40  United-States   >50K  \n",
            "3          7688             0              40  United-States   >50K  \n",
            "4             0             0              30  United-States  <=50K  \n",
            "5             0             0              30  United-States  <=50K  \n",
            "6             0             0              40  United-States  <=50K  \n",
            "7          3103             0              32  United-States   >50K  \n",
            "8             0             0              40  United-States  <=50K  \n",
            "9             0             0              10  United-States  <=50K  \n",
            "       age     workclass  fnlwgt education  educational-num  \\\n",
            "48839   58       Private  151910   HS-grad                9   \n",
            "48840   22       Private  201490   HS-grad                9   \n",
            "48841   52  Self-emp-inc  287927   HS-grad                9   \n",
            "\n",
            "           marital-status       occupation relationship   race  gender  \\\n",
            "48839             Widowed     Adm-clerical    Unmarried  White  Female   \n",
            "48840       Never-married     Adm-clerical    Own-child  White    Male   \n",
            "48841  Married-civ-spouse  Exec-managerial         Wife  White  Female   \n",
            "\n",
            "       capital-gain  capital-loss  hours-per-week native-country income  \n",
            "48839             0             0              40  United-States  <=50K  \n",
            "48840             0             0              20  United-States  <=50K  \n",
            "48841         15024             0              40  United-States   >50K  \n"
          ]
        }
      ]
    },
    {
      "cell_type": "code",
      "source": [
        "#check dataset\n",
        "df.shape"
      ],
      "metadata": {
        "colab": {
          "base_uri": "https://localhost:8080/"
        },
        "id": "r72MmmcjiBvq",
        "outputId": "661f2516-161e-48da-faab-8192134d0d66"
      },
      "execution_count": null,
      "outputs": [
        {
          "output_type": "execute_result",
          "data": {
            "text/plain": [
              "(48842, 15)"
            ]
          },
          "metadata": {},
          "execution_count": 4
        }
      ]
    },
    {
      "cell_type": "code",
      "source": [
        "#null values\n",
        "df.isna().sum() #mean mdeian mode arbitrary"
      ],
      "metadata": {
        "colab": {
          "base_uri": "https://localhost:8080/",
          "height": 554
        },
        "id": "4h0g1rOgdZ2F",
        "outputId": "c3171c8c-9dfd-462a-9bb2-ef530f88cdee"
      },
      "execution_count": null,
      "outputs": [
        {
          "output_type": "execute_result",
          "data": {
            "text/plain": [
              "age                0\n",
              "workclass          0\n",
              "fnlwgt             0\n",
              "education          0\n",
              "educational-num    0\n",
              "marital-status     0\n",
              "occupation         0\n",
              "relationship       0\n",
              "race               0\n",
              "gender             0\n",
              "capital-gain       0\n",
              "capital-loss       0\n",
              "hours-per-week     0\n",
              "native-country     0\n",
              "income             0\n",
              "dtype: int64"
            ],
            "text/html": [
              "<div>\n",
              "<style scoped>\n",
              "    .dataframe tbody tr th:only-of-type {\n",
              "        vertical-align: middle;\n",
              "    }\n",
              "\n",
              "    .dataframe tbody tr th {\n",
              "        vertical-align: top;\n",
              "    }\n",
              "\n",
              "    .dataframe thead th {\n",
              "        text-align: right;\n",
              "    }\n",
              "</style>\n",
              "<table border=\"1\" class=\"dataframe\">\n",
              "  <thead>\n",
              "    <tr style=\"text-align: right;\">\n",
              "      <th></th>\n",
              "      <th>0</th>\n",
              "    </tr>\n",
              "  </thead>\n",
              "  <tbody>\n",
              "    <tr>\n",
              "      <th>age</th>\n",
              "      <td>0</td>\n",
              "    </tr>\n",
              "    <tr>\n",
              "      <th>workclass</th>\n",
              "      <td>0</td>\n",
              "    </tr>\n",
              "    <tr>\n",
              "      <th>fnlwgt</th>\n",
              "      <td>0</td>\n",
              "    </tr>\n",
              "    <tr>\n",
              "      <th>education</th>\n",
              "      <td>0</td>\n",
              "    </tr>\n",
              "    <tr>\n",
              "      <th>educational-num</th>\n",
              "      <td>0</td>\n",
              "    </tr>\n",
              "    <tr>\n",
              "      <th>marital-status</th>\n",
              "      <td>0</td>\n",
              "    </tr>\n",
              "    <tr>\n",
              "      <th>occupation</th>\n",
              "      <td>0</td>\n",
              "    </tr>\n",
              "    <tr>\n",
              "      <th>relationship</th>\n",
              "      <td>0</td>\n",
              "    </tr>\n",
              "    <tr>\n",
              "      <th>race</th>\n",
              "      <td>0</td>\n",
              "    </tr>\n",
              "    <tr>\n",
              "      <th>gender</th>\n",
              "      <td>0</td>\n",
              "    </tr>\n",
              "    <tr>\n",
              "      <th>capital-gain</th>\n",
              "      <td>0</td>\n",
              "    </tr>\n",
              "    <tr>\n",
              "      <th>capital-loss</th>\n",
              "      <td>0</td>\n",
              "    </tr>\n",
              "    <tr>\n",
              "      <th>hours-per-week</th>\n",
              "      <td>0</td>\n",
              "    </tr>\n",
              "    <tr>\n",
              "      <th>native-country</th>\n",
              "      <td>0</td>\n",
              "    </tr>\n",
              "    <tr>\n",
              "      <th>income</th>\n",
              "      <td>0</td>\n",
              "    </tr>\n",
              "  </tbody>\n",
              "</table>\n",
              "</div><br><label><b>dtype:</b> int64</label>"
            ]
          },
          "metadata": {},
          "execution_count": 5
        }
      ]
    },
    {
      "cell_type": "code",
      "source": [
        "#display frequency count\n",
        "print(df.workclass.value_counts())\n",
        "print(\"\\n\")\n",
        "print(df.occupation.value_counts())\n",
        "print(\"\\n\")\n",
        "print(df['native-country'].value_counts())\n",
        "print(\"\\n\")\n",
        "print(df.relationship.value_counts())\n",
        "print(\"\\n\")\n",
        "print(df.gender.value_counts())"
      ],
      "metadata": {
        "colab": {
          "base_uri": "https://localhost:8080/"
        },
        "id": "Qy0_g2CPddRZ",
        "outputId": "1adacdd0-0ae4-4b7b-d261-1cb83e1a73c6"
      },
      "execution_count": null,
      "outputs": [
        {
          "output_type": "stream",
          "name": "stdout",
          "text": [
            "workclass\n",
            "Private             33906\n",
            "Self-emp-not-inc     3862\n",
            "Local-gov            3136\n",
            "?                    2799\n",
            "State-gov            1981\n",
            "Self-emp-inc         1695\n",
            "Federal-gov          1432\n",
            "Without-pay            21\n",
            "Never-worked           10\n",
            "Name: count, dtype: int64\n",
            "\n",
            "\n",
            "occupation\n",
            "Prof-specialty       6172\n",
            "Craft-repair         6112\n",
            "Exec-managerial      6086\n",
            "Adm-clerical         5611\n",
            "Sales                5504\n",
            "Other-service        4923\n",
            "Machine-op-inspct    3022\n",
            "?                    2809\n",
            "Transport-moving     2355\n",
            "Handlers-cleaners    2072\n",
            "Farming-fishing      1490\n",
            "Tech-support         1446\n",
            "Protective-serv       983\n",
            "Priv-house-serv       242\n",
            "Armed-Forces           15\n",
            "Name: count, dtype: int64\n",
            "\n",
            "\n",
            "native-country\n",
            "United-States                 43832\n",
            "Mexico                          951\n",
            "?                               857\n",
            "Philippines                     295\n",
            "Germany                         206\n",
            "Puerto-Rico                     184\n",
            "Canada                          182\n",
            "El-Salvador                     155\n",
            "India                           151\n",
            "Cuba                            138\n",
            "England                         127\n",
            "China                           122\n",
            "South                           115\n",
            "Jamaica                         106\n",
            "Italy                           105\n",
            "Dominican-Republic              103\n",
            "Japan                            92\n",
            "Guatemala                        88\n",
            "Poland                           87\n",
            "Vietnam                          86\n",
            "Columbia                         85\n",
            "Haiti                            75\n",
            "Portugal                         67\n",
            "Taiwan                           65\n",
            "Iran                             59\n",
            "Nicaragua                        49\n",
            "Greece                           49\n",
            "Peru                             46\n",
            "Ecuador                          45\n",
            "France                           38\n",
            "Ireland                          37\n",
            "Thailand                         30\n",
            "Hong                             30\n",
            "Cambodia                         28\n",
            "Trinadad&Tobago                  27\n",
            "Laos                             23\n",
            "Outlying-US(Guam-USVI-etc)       23\n",
            "Yugoslavia                       23\n",
            "Scotland                         21\n",
            "Honduras                         20\n",
            "Hungary                          19\n",
            "Holand-Netherlands                1\n",
            "Name: count, dtype: int64\n",
            "\n",
            "\n",
            "relationship\n",
            "Husband           19716\n",
            "Not-in-family     12583\n",
            "Own-child          7581\n",
            "Unmarried          5125\n",
            "Wife               2331\n",
            "Other-relative     1506\n",
            "Name: count, dtype: int64\n",
            "\n",
            "\n",
            "gender\n",
            "Male      32650\n",
            "Female    16192\n",
            "Name: count, dtype: int64\n"
          ]
        }
      ]
    },
    {
      "cell_type": "code",
      "source": [
        "df.shape"
      ],
      "metadata": {
        "colab": {
          "base_uri": "https://localhost:8080/"
        },
        "id": "84LeSOTjeQpU",
        "outputId": "bd1bc3e5-16d4-4443-b55e-16267475f3c3"
      },
      "execution_count": null,
      "outputs": [
        {
          "output_type": "execute_result",
          "data": {
            "text/plain": [
              "(48842, 15)"
            ]
          },
          "metadata": {},
          "execution_count": 6
        }
      ]
    },
    {
      "cell_type": "code",
      "source": [
        "#replace missing value\n",
        "\n",
        "df.workclass.replace({'?': 'Others'}, inplace=True)\n",
        "print(\"\\n\")\n",
        "df.occupation.replace({'?': 'Others'}, inplace=True)\n",
        "print(\"\\n\")\n",
        "print(df.workclass.value_counts())\n",
        "print(\"\\n\")\n",
        "print(df.occupation.value_counts())"
      ],
      "metadata": {
        "colab": {
          "base_uri": "https://localhost:8080/"
        },
        "id": "0CYmY7tiiZve",
        "outputId": "27f05e2a-698a-4d5b-d2ba-f62d8a7319ba"
      },
      "execution_count": null,
      "outputs": [
        {
          "output_type": "stream",
          "name": "stdout",
          "text": [
            "\n",
            "\n",
            "\n",
            "\n",
            "workclass\n",
            "Private             33906\n",
            "Self-emp-not-inc     3862\n",
            "Local-gov            3136\n",
            "Others               2799\n",
            "State-gov            1981\n",
            "Self-emp-inc         1695\n",
            "Federal-gov          1432\n",
            "Without-pay            21\n",
            "Never-worked           10\n",
            "Name: count, dtype: int64\n",
            "\n",
            "\n",
            "occupation\n",
            "Prof-specialty       6172\n",
            "Craft-repair         6112\n",
            "Exec-managerial      6086\n",
            "Adm-clerical         5611\n",
            "Sales                5504\n",
            "Other-service        4923\n",
            "Machine-op-inspct    3022\n",
            "Others               2809\n",
            "Transport-moving     2355\n",
            "Handlers-cleaners    2072\n",
            "Farming-fishing      1490\n",
            "Tech-support         1446\n",
            "Protective-serv       983\n",
            "Priv-house-serv       242\n",
            "Armed-Forces           15\n",
            "Name: count, dtype: int64\n"
          ]
        },
        {
          "output_type": "stream",
          "name": "stderr",
          "text": [
            "/tmp/ipython-input-7-2424418312.py:3: FutureWarning: A value is trying to be set on a copy of a DataFrame or Series through chained assignment using an inplace method.\n",
            "The behavior will change in pandas 3.0. This inplace method will never work because the intermediate object on which we are setting values always behaves as a copy.\n",
            "\n",
            "For example, when doing 'df[col].method(value, inplace=True)', try using 'df.method({col: value}, inplace=True)' or df[col] = df[col].method(value) instead, to perform the operation inplace on the original object.\n",
            "\n",
            "\n",
            "  df.workclass.replace({'?': 'Others'}, inplace=True)\n",
            "/tmp/ipython-input-7-2424418312.py:5: FutureWarning: A value is trying to be set on a copy of a DataFrame or Series through chained assignment using an inplace method.\n",
            "The behavior will change in pandas 3.0. This inplace method will never work because the intermediate object on which we are setting values always behaves as a copy.\n",
            "\n",
            "For example, when doing 'df[col].method(value, inplace=True)', try using 'df.method({col: value}, inplace=True)' or df[col] = df[col].method(value) instead, to perform the operation inplace on the original object.\n",
            "\n",
            "\n",
            "  df.occupation.replace({'?': 'Others'}, inplace=True)\n"
          ]
        }
      ]
    },
    {
      "cell_type": "code",
      "source": [
        "#remove irrevalent data\n",
        "df = df[(df['workclass'] != 'Without-pay') & (df['workclass'] != 'Never-worked')]\n",
        "print(df.workclass.value_counts())\n"
      ],
      "metadata": {
        "colab": {
          "base_uri": "https://localhost:8080/"
        },
        "id": "-ylUZEXXiziR",
        "outputId": "fcd1f63e-c7d8-49d6-becb-f7e38021a8af"
      },
      "execution_count": null,
      "outputs": [
        {
          "output_type": "stream",
          "name": "stdout",
          "text": [
            "workclass\n",
            "Private             33906\n",
            "Self-emp-not-inc     3862\n",
            "Local-gov            3136\n",
            "Others               2799\n",
            "State-gov            1981\n",
            "Self-emp-inc         1695\n",
            "Federal-gov          1432\n",
            "Name: count, dtype: int64\n"
          ]
        }
      ]
    },
    {
      "cell_type": "code",
      "source": [
        "df.shape"
      ],
      "metadata": {
        "colab": {
          "base_uri": "https://localhost:8080/"
        },
        "id": "Aar8Jhz1jJd7",
        "outputId": "043db6e8-e1a1-4f38-ca19-925ae970f0ef"
      },
      "execution_count": null,
      "outputs": [
        {
          "output_type": "execute_result",
          "data": {
            "text/plain": [
              "(48811, 15)"
            ]
          },
          "metadata": {},
          "execution_count": 9
        }
      ]
    },
    {
      "cell_type": "code",
      "source": [
        "#outlier detection in age\n",
        "import matplotlib.pyplot as plt   #visualization\n",
        "plt.boxplot(df['age'])\n",
        "plt.show()"
      ],
      "metadata": {
        "colab": {
          "base_uri": "https://localhost:8080/",
          "height": 430
        },
        "id": "HgieFxm_eZFH",
        "outputId": "5863f90f-53ee-4483-8317-61d9a8251e09"
      },
      "execution_count": null,
      "outputs": [
        {
          "output_type": "display_data",
          "data": {
            "text/plain": [
              "<Figure size 640x480 with 1 Axes>"
            ],
            "image/png": "[encoded data removed]"
          },
          "metadata": {}
        }
      ]
    },
    {
      "cell_type": "code",
      "source": [
        "#remove age outlires (<17 and >75)\n",
        "df=df[(df['age']<=75)&(df['age']>=17)]\n",
        "plt.boxplot(df['age'])\n",
        "plt.show()"
      ],
      "metadata": {
        "colab": {
          "base_uri": "https://localhost:8080/",
          "height": 430
        },
        "id": "aszvXYOl3BVz",
        "outputId": "a5ef3dc4-cde2-4603-df34-407e8993f7c5"
      },
      "execution_count": null,
      "outputs": [
        {
          "output_type": "display_data",
          "data": {
            "text/plain": [
              "<Figure size 640x480 with 1 Axes>"
            ],
            "image/png": "[encoded data removed]"
          },
          "metadata": {}
        }
      ]
    },
    {
      "cell_type": "code",
      "source": [
        "df.shape"
      ],
      "metadata": {
        "colab": {
          "base_uri": "https://localhost:8080/"
        },
        "id": "Jn0VwrNUjujO",
        "outputId": "07f10d6d-3577-4904-87ce-ba99e2d5c42a"
      },
      "execution_count": null,
      "outputs": [
        {
          "output_type": "execute_result",
          "data": {
            "text/plain": [
              "(48438, 15)"
            ]
          },
          "metadata": {},
          "execution_count": 12
        }
      ]
    },
    {
      "cell_type": "code",
      "source": [
        "#education number outliers\n",
        "df = df[(df['educational-num'] >= 5) & (df['educational-num'] <= 16)]\n",
        "print(df)\n",
        "plt.boxplot(df['educational-num'])\n",
        "plt.show()\n"
      ],
      "metadata": {
        "colab": {
          "base_uri": "https://localhost:8080/",
          "height": 1000
        },
        "id": "vhnIBtNe3HH0",
        "outputId": "13fff660-0f5d-4c7e-ed7b-4aa2a174b2bb"
      },
      "execution_count": null,
      "outputs": [
        {
          "output_type": "stream",
          "name": "stdout",
          "text": [
            "       age     workclass  fnlwgt     education  educational-num  \\\n",
            "0       25       Private  226802          11th                7   \n",
            "1       38       Private   89814       HS-grad                9   \n",
            "2       28     Local-gov  336951    Assoc-acdm               12   \n",
            "3       44       Private  160323  Some-college               10   \n",
            "4       18        Others  103497  Some-college               10   \n",
            "...    ...           ...     ...           ...              ...   \n",
            "48837   27       Private  257302    Assoc-acdm               12   \n",
            "48838   40       Private  154374       HS-grad                9   \n",
            "48839   58       Private  151910       HS-grad                9   \n",
            "48840   22       Private  201490       HS-grad                9   \n",
            "48841   52  Self-emp-inc  287927       HS-grad                9   \n",
            "\n",
            "           marital-status         occupation relationship   race  gender  \\\n",
            "0           Never-married  Machine-op-inspct    Own-child  Black    Male   \n",
            "1      Married-civ-spouse    Farming-fishing      Husband  White    Male   \n",
            "2      Married-civ-spouse    Protective-serv      Husband  White    Male   \n",
            "3      Married-civ-spouse  Machine-op-inspct      Husband  Black    Male   \n",
            "4           Never-married             Others    Own-child  White  Female   \n",
            "...                   ...                ...          ...    ...     ...   \n",
            "48837  Married-civ-spouse       Tech-support         Wife  White  Female   \n",
            "48838  Married-civ-spouse  Machine-op-inspct      Husband  White    Male   \n",
            "48839             Widowed       Adm-clerical    Unmarried  White  Female   \n",
            "48840       Never-married       Adm-clerical    Own-child  White    Male   \n",
            "48841  Married-civ-spouse    Exec-managerial         Wife  White  Female   \n",
            "\n",
            "       capital-gain  capital-loss  hours-per-week native-country income  \n",
            "0                 0             0              40  United-States  <=50K  \n",
            "1                 0             0              50  United-States  <=50K  \n",
            "2                 0             0              40  United-States   >50K  \n",
            "3              7688             0              40  United-States   >50K  \n",
            "4                 0             0              30  United-States  <=50K  \n",
            "...             ...           ...             ...            ...    ...  \n",
            "48837             0             0              38  United-States  <=50K  \n",
            "48838             0             0              40  United-States   >50K  \n",
            "48839             0             0              40  United-States  <=50K  \n",
            "48840             0             0              20  United-States  <=50K  \n",
            "48841         15024             0              40  United-States   >50K  \n",
            "\n",
            "[46720 rows x 15 columns]\n"
          ]
        },
        {
          "output_type": "display_data",
          "data": {
            "text/plain": [
              "<Figure size 640x480 with 1 Axes>"
            ],
            "image/png": "[encoded data removed]"
          },
          "metadata": {}
        }
      ]
    },
    {
      "cell_type": "code",
      "source": [
        "plt.boxplot(df['capital-gain'])\n",
        "plt.show()"
      ],
      "metadata": {
        "colab": {
          "base_uri": "https://localhost:8080/",
          "height": 430
        },
        "id": "bbIIqnvVeymR",
        "outputId": "ce62dfbe-7243-4128-95cf-3857c56a45b8"
      },
      "execution_count": null,
      "outputs": [
        {
          "output_type": "display_data",
          "data": {
            "text/plain": [
              "<Figure size 640x480 with 1 Axes>"
            ],
            "image/png": "[encoded data removed]"
          },
          "metadata": {}
        }
      ]
    },
    {
      "cell_type": "code",
      "source": [
        "plt.boxplot(df['capital-gain'])\n",
        "plt.show()"
      ],
      "metadata": {
        "colab": {
          "base_uri": "https://localhost:8080/",
          "height": 430
        },
        "id": "Qe3CFXp4e8DK",
        "outputId": "6095c634-3fe1-4266-d6b8-28509fd19b79"
      },
      "execution_count": null,
      "outputs": [
        {
          "output_type": "display_data",
          "data": {
            "text/plain": [
              "<Figure size 640x480 with 1 Axes>"
            ],
            "image/png": "[encoded data removed]"
          },
          "metadata": {}
        }
      ]
    },
    {
      "cell_type": "code",
      "source": [
        "plt.boxplot(df['hours-per-week'])\n",
        "plt.show()"
      ],
      "metadata": {
        "colab": {
          "base_uri": "https://localhost:8080/",
          "height": 430
        },
        "id": "Y4Mrt8DxfYG5",
        "outputId": "d555fe1a-8d29-4d79-dd8a-4a66a08461a7"
      },
      "execution_count": null,
      "outputs": [
        {
          "output_type": "display_data",
          "data": {
            "text/plain": [
              "<Figure size 640x480 with 1 Axes>"
            ],
            "image/png": "[encoded data removed]"
          },
          "metadata": {}
        }
      ]
    },
    {
      "cell_type": "code",
      "source": [
        "df=df.drop(columns=['education']) #redundant features removal\n",
        "print(df)"
      ],
      "metadata": {
        "colab": {
          "base_uri": "https://localhost:8080/"
        },
        "id": "XZ8nqhH2fhie",
        "outputId": "551aad23-899a-4dd2-82e9-03012150444d"
      },
      "execution_count": null,
      "outputs": [
        {
          "output_type": "stream",
          "name": "stdout",
          "text": [
            "       age     workclass  fnlwgt  educational-num      marital-status  \\\n",
            "0       25       Private  226802                7       Never-married   \n",
            "1       38       Private   89814                9  Married-civ-spouse   \n",
            "2       28     Local-gov  336951               12  Married-civ-spouse   \n",
            "3       44       Private  160323               10  Married-civ-spouse   \n",
            "4       18        Others  103497               10       Never-married   \n",
            "...    ...           ...     ...              ...                 ...   \n",
            "48837   27       Private  257302               12  Married-civ-spouse   \n",
            "48838   40       Private  154374                9  Married-civ-spouse   \n",
            "48839   58       Private  151910                9             Widowed   \n",
            "48840   22       Private  201490                9       Never-married   \n",
            "48841   52  Self-emp-inc  287927                9  Married-civ-spouse   \n",
            "\n",
            "              occupation relationship   race  gender  capital-gain  \\\n",
            "0      Machine-op-inspct    Own-child  Black    Male             0   \n",
            "1        Farming-fishing      Husband  White    Male             0   \n",
            "2        Protective-serv      Husband  White    Male             0   \n",
            "3      Machine-op-inspct      Husband  Black    Male          7688   \n",
            "4                 Others    Own-child  White  Female             0   \n",
            "...                  ...          ...    ...     ...           ...   \n",
            "48837       Tech-support         Wife  White  Female             0   \n",
            "48838  Machine-op-inspct      Husband  White    Male             0   \n",
            "48839       Adm-clerical    Unmarried  White  Female             0   \n",
            "48840       Adm-clerical    Own-child  White    Male             0   \n",
            "48841    Exec-managerial         Wife  White  Female         15024   \n",
            "\n",
            "       capital-loss  hours-per-week native-country income  \n",
            "0                 0              40  United-States  <=50K  \n",
            "1                 0              50  United-States  <=50K  \n",
            "2                 0              40  United-States   >50K  \n",
            "3                 0              40  United-States   >50K  \n",
            "4                 0              30  United-States  <=50K  \n",
            "...             ...             ...            ...    ...  \n",
            "48837             0              38  United-States  <=50K  \n",
            "48838             0              40  United-States   >50K  \n",
            "48839             0              40  United-States  <=50K  \n",
            "48840             0              20  United-States  <=50K  \n",
            "48841             0              40  United-States   >50K  \n",
            "\n",
            "[46720 rows x 14 columns]\n"
          ]
        }
      ]
    },
    {
      "cell_type": "code",
      "source": [
        "df"
      ],
      "metadata": {
        "colab": {
          "base_uri": "https://localhost:8080/",
          "height": 756
        },
        "id": "UEObjcXkfwLH",
        "outputId": "637c95dc-d69d-4f91-bbc9-c5ff7e5ab46d"
      },
      "execution_count": null,
      "outputs": [
        {
          "output_type": "execute_result",
          "data": {
            "text/plain": [
              "       age     workclass  fnlwgt  educational-num      marital-status  \\\n",
              "0       25       Private  226802                7       Never-married   \n",
              "1       38       Private   89814                9  Married-civ-spouse   \n",
              "2       28     Local-gov  336951               12  Married-civ-spouse   \n",
              "3       44       Private  160323               10  Married-civ-spouse   \n",
              "4       18        Others  103497               10       Never-married   \n",
              "...    ...           ...     ...              ...                 ...   \n",
              "48837   27       Private  257302               12  Married-civ-spouse   \n",
              "48838   40       Private  154374                9  Married-civ-spouse   \n",
              "48839   58       Private  151910                9             Widowed   \n",
              "48840   22       Private  201490                9       Never-married   \n",
              "48841   52  Self-emp-inc  287927                9  Married-civ-spouse   \n",
              "\n",
              "              occupation relationship   race  gender  capital-gain  \\\n",
              "0      Machine-op-inspct    Own-child  Black    Male             0   \n",
              "1        Farming-fishing      Husband  White    Male             0   \n",
              "2        Protective-serv      Husband  White    Male             0   \n",
              "3      Machine-op-inspct      Husband  Black    Male          7688   \n",
              "4                 Others    Own-child  White  Female             0   \n",
              "...                  ...          ...    ...     ...           ...   \n",
              "48837       Tech-support         Wife  White  Female             0   \n",
              "48838  Machine-op-inspct      Husband  White    Male             0   \n",
              "48839       Adm-clerical    Unmarried  White  Female             0   \n",
              "48840       Adm-clerical    Own-child  White    Male             0   \n",
              "48841    Exec-managerial         Wife  White  Female         15024   \n",
              "\n",
              "       capital-loss  hours-per-week native-country income  \n",
              "0                 0              40  United-States  <=50K  \n",
              "1                 0              50  United-States  <=50K  \n",
              "2                 0              40  United-States   >50K  \n",
              "3                 0              40  United-States   >50K  \n",
              "4                 0              30  United-States  <=50K  \n",
              "...             ...             ...            ...    ...  \n",
              "48837             0              38  United-States  <=50K  \n",
              "48838             0              40  United-States   >50K  \n",
              "48839             0              40  United-States  <=50K  \n",
              "48840             0              20  United-States  <=50K  \n",
              "48841             0              40  United-States   >50K  \n",
              "\n",
              "[46720 rows x 14 columns]"
            ],
            "text/html": [
              "\n",
              "  <div id=\"df-2ee76abf-1d0e-4f88-a8b1-32030de4b1ae\" class=\"colab-df-container\">\n",
              "    <div>\n",
              "<style scoped>\n",
              "    .dataframe tbody tr th:only-of-type {\n",
              "        vertical-align: middle;\n",
              "    }\n",
              "\n",
              "    .dataframe tbody tr th {\n",
              "        vertical-align: top;\n",
              "    }\n",
              "\n",
              "    .dataframe thead th {\n",
              "        text-align: right;\n",
              "    }\n",
              "</style>\n",
              "<table border=\"1\" class=\"dataframe\">\n",
              "  <thead>\n",
              "    <tr style=\"text-align: right;\">\n",
              "      <th></th>\n",
              "      <th>age</th>\n",
              "      <th>workclass</th>\n",
              "      <th>fnlwgt</th>\n",
              "      <th>educational-num</th>\n",
              "      <th>marital-status</th>\n",
              "      <th>occupation</th>\n",
              "      <th>relationship</th>\n",
              "      <th>race</th>\n",
              "      <th>gender</th>\n",
              "      <th>capital-gain</th>\n",
              "      <th>capital-loss</th>\n",
              "      <th>hours-per-week</th>\n",
              "      <th>native-country</th>\n",
              "      <th>income</th>\n",
              "    </tr>\n",
              "  </thead>\n",
              "  <tbody>\n",
              "    <tr>\n",
              "      <th>0</th>\n",
              "      <td>25</td>\n",
              "      <td>Private</td>\n",
              "      <td>226802</td>\n",
              "      <td>7</td>\n",
              "      <td>Never-married</td>\n",
              "      <td>Machine-op-inspct</td>\n",
              "      <td>Own-child</td>\n",
              "      <td>Black</td>\n",
              "      <td>Male</td>\n",
              "      <td>0</td>\n",
              "      <td>0</td>\n",
              "      <td>40</td>\n",
              "      <td>United-States</td>\n",
              "      <td>&lt;=50K</td>\n",
              "    </tr>\n",
              "    <tr>\n",
              "      <th>1</th>\n",
              "      <td>38</td>\n",
              "      <td>Private</td>\n",
              "      <td>89814</td>\n",
              "      <td>9</td>\n",
              "      <td>Married-civ-spouse</td>\n",
              "      <td>Farming-fishing</td>\n",
              "      <td>Husband</td>\n",
              "      <td>White</td>\n",
              "      <td>Male</td>\n",
              "      <td>0</td>\n",
              "      <td>0</td>\n",
              "      <td>50</td>\n",
              "      <td>United-States</td>\n",
              "      <td>&lt;=50K</td>\n",
              "    </tr>\n",
              "    <tr>\n",
              "      <th>2</th>\n",
              "      <td>28</td>\n",
              "      <td>Local-gov</td>\n",
              "      <td>336951</td>\n",
              "      <td>12</td>\n",
              "      <td>Married-civ-spouse</td>\n",
              "      <td>Protective-serv</td>\n",
              "      <td>Husband</td>\n",
              "      <td>White</td>\n",
              "      <td>Male</td>\n",
              "      <td>0</td>\n",
              "      <td>0</td>\n",
              "      <td>40</td>\n",
              "      <td>United-States</td>\n",
              "      <td>&gt;50K</td>\n",
              "    </tr>\n",
              "    <tr>\n",
              "      <th>3</th>\n",
              "      <td>44</td>\n",
              "      <td>Private</td>\n",
              "      <td>160323</td>\n",
              "      <td>10</td>\n",
              "      <td>Married-civ-spouse</td>\n",
              "      <td>Machine-op-inspct</td>\n",
              "      <td>Husband</td>\n",
              "      <td>Black</td>\n",
              "      <td>Male</td>\n",
              "      <td>7688</td>\n",
              "      <td>0</td>\n",
              "      <td>40</td>\n",
              "      <td>United-States</td>\n",
              "      <td>&gt;50K</td>\n",
              "    </tr>\n",
              "    <tr>\n",
              "      <th>4</th>\n",
              "      <td>18</td>\n",
              "      <td>Others</td>\n",
              "      <td>103497</td>\n",
              "      <td>10</td>\n",
              "      <td>Never-married</td>\n",
              "      <td>Others</td>\n",
              "      <td>Own-child</td>\n",
              "      <td>White</td>\n",
              "      <td>Female</td>\n",
              "      <td>0</td>\n",
              "      <td>0</td>\n",
              "      <td>30</td>\n",
              "      <td>United-States</td>\n",
              "      <td>&lt;=50K</td>\n",
              "    </tr>\n",
              "    <tr>\n",
              "      <th>...</th>\n",
              "      <td>...</td>\n",
              "      <td>...</td>\n",
              "      <td>...</td>\n",
              "      <td>...</td>\n",
              "      <td>...</td>\n",
              "      <td>...</td>\n",
              "      <td>...</td>\n",
              "      <td>...</td>\n",
              "      <td>...</td>\n",
              "      <td>...</td>\n",
              "      <td>...</td>\n",
              "      <td>...</td>\n",
              "      <td>...</td>\n",
              "      <td>...</td>\n",
              "    </tr>\n",
              "    <tr>\n",
              "      <th>48837</th>\n",
              "      <td>27</td>\n",
              "      <td>Private</td>\n",
              "      <td>257302</td>\n",
              "      <td>12</td>\n",
              "      <td>Married-civ-spouse</td>\n",
              "      <td>Tech-support</td>\n",
              "      <td>Wife</td>\n",
              "      <td>White</td>\n",
              "      <td>Female</td>\n",
              "      <td>0</td>\n",
              "      <td>0</td>\n",
              "      <td>38</td>\n",
              "      <td>United-States</td>\n",
              "      <td>&lt;=50K</td>\n",
              "    </tr>\n",
              "    <tr>\n",
              "      <th>48838</th>\n",
              "      <td>40</td>\n",
              "      <td>Private</td>\n",
              "      <td>154374</td>\n",
              "      <td>9</td>\n",
              "      <td>Married-civ-spouse</td>\n",
              "      <td>Machine-op-inspct</td>\n",
              "      <td>Husband</td>\n",
              "      <td>White</td>\n",
              "      <td>Male</td>\n",
              "      <td>0</td>\n",
              "      <td>0</td>\n",
              "      <td>40</td>\n",
              "      <td>United-States</td>\n",
              "      <td>&gt;50K</td>\n",
              "    </tr>\n",
              "    <tr>\n",
              "      <th>48839</th>\n",
              "      <td>58</td>\n",
              "      <td>Private</td>\n",
              "      <td>151910</td>\n",
              "      <td>9</td>\n",
              "      <td>Widowed</td>\n",
              "      <td>Adm-clerical</td>\n",
              "      <td>Unmarried</td>\n",
              "      <td>White</td>\n",
              "      <td>Female</td>\n",
              "      <td>0</td>\n",
              "      <td>0</td>\n",
              "      <td>40</td>\n",
              "      <td>United-States</td>\n",
              "      <td>&lt;=50K</td>\n",
              "    </tr>\n",
              "    <tr>\n",
              "      <th>48840</th>\n",
              "      <td>22</td>\n",
              "      <td>Private</td>\n",
              "      <td>201490</td>\n",
              "      <td>9</td>\n",
              "      <td>Never-married</td>\n",
              "      <td>Adm-clerical</td>\n",
              "      <td>Own-child</td>\n",
              "      <td>White</td>\n",
              "      <td>Male</td>\n",
              "      <td>0</td>\n",
              "      <td>0</td>\n",
              "      <td>20</td>\n",
              "      <td>United-States</td>\n",
              "      <td>&lt;=50K</td>\n",
              "    </tr>\n",
              "    <tr>\n",
              "      <th>48841</th>\n",
              "      <td>52</td>\n",
              "      <td>Self-emp-inc</td>\n",
              "      <td>287927</td>\n",
              "      <td>9</td>\n",
              "      <td>Married-civ-spouse</td>\n",
              "      <td>Exec-managerial</td>\n",
              "      <td>Wife</td>\n",
              "      <td>White</td>\n",
              "      <td>Female</td>\n",
              "      <td>15024</td>\n",
              "      <td>0</td>\n",
              "      <td>40</td>\n",
              "      <td>United-States</td>\n",
              "      <td>&gt;50K</td>\n",
              "    </tr>\n",
              "  </tbody>\n",
              "</table>\n",
              "<p>46720 rows × 14 columns</p>\n",
              "</div>\n",
              "    <div class=\"colab-df-buttons\">\n",
              "\n",
              "  <div class=\"colab-df-container\">\n",
              "    <button class=\"colab-df-convert\" onclick=\"convertToInteractive('df-2ee76abf-1d0e-4f88-a8b1-32030de4b1ae')\"\n",
              "            title=\"Convert this dataframe to an interactive table.\"\n",
              "            style=\"display:none;\">\n",
              "\n",
              "  <svg xmlns=\"http://www.w3.org/2000/svg\" height=\"24px\" viewBox=\"0 -960 960 960\">\n",
              "    <path d=\"M120-120v-720h720v720H120Zm60-500h600v-160H180v160Zm220 220h160v-160H400v160Zm0 220h160v-160H400v160ZM180-400h160v-160H180v160Zm440 0h160v-160H620v160ZM180-180h160v-160H180v160Zm440 0h160v-160H620v160Z\"/>\n",
              "  </svg>\n",
              "    </button>\n",
              "\n",
              "  <style>\n",
              "    .colab-df-container {\n",
              "      display:flex;\n",
              "      gap: 12px;\n",
              "    }\n",
              "\n",
              "    .colab-df-convert {\n",
              "      background-color: #E8F0FE;\n",
              "      border: none;\n",
              "      border-radius: 50%;\n",
              "      cursor: pointer;\n",
              "      display: none;\n",
              "      fill: #1967D2;\n",
              "      height: 32px;\n",
              "      padding: 0 0 0 0;\n",
              "      width: 32px;\n",
              "    }\n",
              "\n",
              "    .colab-df-convert:hover {\n",
              "      background-color: #E2EBFA;\n",
              "      box-shadow: 0px 1px 2px rgba(60, 64, 67, 0.3), 0px 1px 3px 1px rgba(60, 64, 67, 0.15);\n",
              "      fill: #174EA6;\n",
              "    }\n",
              "\n",
              "    .colab-df-buttons div {\n",
              "      margin-bottom: 4px;\n",
              "    }\n",
              "\n",
              "    [theme=dark] .colab-df-convert {\n",
              "      background-color: #3B4455;\n",
              "      fill: #D2E3FC;\n",
              "    }\n",
              "\n",
              "    [theme=dark] .colab-df-convert:hover {\n",
              "      background-color: #434B5C;\n",
              "      box-shadow: 0px 1px 3px 1px rgba(0, 0, 0, 0.15);\n",
              "      filter: drop-shadow(0px 1px 2px rgba(0, 0, 0, 0.3));\n",
              "      fill: #FFFFFF;\n",
              "    }\n",
              "  </style>\n",
              "\n",
              "    <script>\n",
              "      const buttonEl =\n",
              "        document.querySelector('#df-2ee76abf-1d0e-4f88-a8b1-32030de4b1ae button.colab-df-convert');\n",
              "      buttonEl.style.display =\n",
              "        google.colab.kernel.accessAllowed ? 'block' : 'none';\n",
              "\n",
              "      async function convertToInteractive(key) {\n",
              "        const element = document.querySelector('#df-2ee76abf-1d0e-4f88-a8b1-32030de4b1ae');\n",
              "        const dataTable =\n",
              "          await google.colab.kernel.invokeFunction('convertToInteractive',\n",
              "                                                    [key], {});\n",
              "        if (!dataTable) return;\n",
              "\n",
              "        const docLinkHtml = 'Like what you see? Visit the ' +\n",
              "          '<a target=\"_blank\" href=https://colab.research.google.com/notebooks/data_table.ipynb>data table notebook</a>'\n",
              "          + ' to learn more about interactive tables.';\n",
              "        element.innerHTML = '';\n",
              "        dataTable['output_type'] = 'display_data';\n",
              "        await google.colab.output.renderOutput(dataTable, element);\n",
              "        const docLink = document.createElement('div');\n",
              "        docLink.innerHTML = docLinkHtml;\n",
              "        element.appendChild(docLink);\n",
              "      }\n",
              "    </script>\n",
              "  </div>\n",
              "\n",
              "\n",
              "    <div id=\"df-4478f283-f8bf-40df-896c-73cbfe6730e0\">\n",
              "      <button class=\"colab-df-quickchart\" onclick=\"quickchart('df-4478f283-f8bf-40df-896c-73cbfe6730e0')\"\n",
              "                title=\"Suggest charts\"\n",
              "                style=\"display:none;\">\n",
              "\n",
              "<svg xmlns=\"http://www.w3.org/2000/svg\" height=\"24px\"viewBox=\"0 0 24 24\"\n",
              "     width=\"24px\">\n",
              "    <g>\n",
              "        <path d=\"M19 3H5c-1.1 0-2 .9-2 2v14c0 1.1.9 2 2 2h14c1.1 0 2-.9 2-2V5c0-1.1-.9-2-2-2zM9 17H7v-7h2v7zm4 0h-2V7h2v10zm4 0h-2v-4h2v4z\"/>\n",
              "    </g>\n",
              "</svg>\n",
              "      </button>\n",
              "\n",
              "<style>\n",
              "  .colab-df-quickchart {\n",
              "      --bg-color: #E8F0FE;\n",
              "      --fill-color: #1967D2;\n",
              "      --hover-bg-color: #E2EBFA;\n",
              "      --hover-fill-color: #174EA6;\n",
              "      --disabled-fill-color: #AAA;\n",
              "      --disabled-bg-color: #DDD;\n",
              "  }\n",
              "\n",
              "  [theme=dark] .colab-df-quickchart {\n",
              "      --bg-color: #3B4455;\n",
              "      --fill-color: #D2E3FC;\n",
              "      --hover-bg-color: #434B5C;\n",
              "      --hover-fill-color: #FFFFFF;\n",
              "      --disabled-bg-color: #3B4455;\n",
              "      --disabled-fill-color: #666;\n",
              "  }\n",
              "\n",
              "  .colab-df-quickchart {\n",
              "    background-color: var(--bg-color);\n",
              "    border: none;\n",
              "    border-radius: 50%;\n",
              "    cursor: pointer;\n",
              "    display: none;\n",
              "    fill: var(--fill-color);\n",
              "    height: 32px;\n",
              "    padding: 0;\n",
              "    width: 32px;\n",
              "  }\n",
              "\n",
              "  .colab-df-quickchart:hover {\n",
              "    background-color: var(--hover-bg-color);\n",
              "    box-shadow: 0 1px 2px rgba(60, 64, 67, 0.3), 0 1px 3px 1px rgba(60, 64, 67, 0.15);\n",
              "    fill: var(--button-hover-fill-color);\n",
              "  }\n",
              "\n",
              "  .colab-df-quickchart-complete:disabled,\n",
              "  .colab-df-quickchart-complete:disabled:hover {\n",
              "    background-color: var(--disabled-bg-color);\n",
              "    fill: var(--disabled-fill-color);\n",
              "    box-shadow: none;\n",
              "  }\n",
              "\n",
              "  .colab-df-spinner {\n",
              "    border: 2px solid var(--fill-color);\n",
              "    border-color: transparent;\n",
              "    border-bottom-color: var(--fill-color);\n",
              "    animation:\n",
              "      spin 1s steps(1) infinite;\n",
              "  }\n",
              "\n",
              "  @keyframes spin {\n",
              "    0% {\n",
              "      border-color: transparent;\n",
              "      border-bottom-color: var(--fill-color);\n",
              "      border-left-color: var(--fill-color);\n",
              "    }\n",
              "    20% {\n",
              "      border-color: transparent;\n",
              "      border-left-color: var(--fill-color);\n",
              "      border-top-color: var(--fill-color);\n",
              "    }\n",
              "    30% {\n",
              "      border-color: transparent;\n",
              "      border-left-color: var(--fill-color);\n",
              "      border-top-color: var(--fill-color);\n",
              "      border-right-color: var(--fill-color);\n",
              "    }\n",
              "    40% {\n",
              "      border-color: transparent;\n",
              "      border-right-color: var(--fill-color);\n",
              "      border-top-color: var(--fill-color);\n",
              "    }\n",
              "    60% {\n",
              "      border-color: transparent;\n",
              "      border-right-color: var(--fill-color);\n",
              "    }\n",
              "    80% {\n",
              "      border-color: transparent;\n",
              "      border-right-color: var(--fill-color);\n",
              "      border-bottom-color: var(--fill-color);\n",
              "    }\n",
              "    90% {\n",
              "      border-color: transparent;\n",
              "      border-bottom-color: var(--fill-color);\n",
              "    }\n",
              "  }\n",
              "</style>\n",
              "\n",
              "      <script>\n",
              "        async function quickchart(key) {\n",
              "          const quickchartButtonEl =\n",
              "            document.querySelector('#' + key + ' button');\n",
              "          quickchartButtonEl.disabled = true;  // To prevent multiple clicks.\n",
              "          quickchartButtonEl.classList.add('colab-df-spinner');\n",
              "          try {\n",
              "            const charts = await google.colab.kernel.invokeFunction(\n",
              "                'suggestCharts', [key], {});\n",
              "          } catch (error) {\n",
              "            console.error('Error during call to suggestCharts:', error);\n",
              "          }\n",
              "          quickchartButtonEl.classList.remove('colab-df-spinner');\n",
              "          quickchartButtonEl.classList.add('colab-df-quickchart-complete');\n",
              "        }\n",
              "        (() => {\n",
              "          let quickchartButtonEl =\n",
              "            document.querySelector('#df-4478f283-f8bf-40df-896c-73cbfe6730e0 button');\n",
              "          quickchartButtonEl.style.display =\n",
              "            google.colab.kernel.accessAllowed ? 'block' : 'none';\n",
              "        })();\n",
              "      </script>\n",
              "    </div>\n",
              "\n",
              "  <div id=\"id_1139c23c-3281-412e-9eae-c65973e70181\">\n",
              "    <style>\n",
              "      .colab-df-generate {\n",
              "        background-color: #E8F0FE;\n",
              "        border: none;\n",
              "        border-radius: 50%;\n",
              "        cursor: pointer;\n",
              "        display: none;\n",
              "        fill: #1967D2;\n",
              "        height: 32px;\n",
              "        padding: 0 0 0 0;\n",
              "        width: 32px;\n",
              "      }\n",
              "\n",
              "      .colab-df-generate:hover {\n",
              "        background-color: #E2EBFA;\n",
              "        box-shadow: 0px 1px 2px rgba(60, 64, 67, 0.3), 0px 1px 3px 1px rgba(60, 64, 67, 0.15);\n",
              "        fill: #174EA6;\n",
              "      }\n",
              "\n",
              "      [theme=dark] .colab-df-generate {\n",
              "        background-color: #3B4455;\n",
              "        fill: #D2E3FC;\n",
              "      }\n",
              "\n",
              "      [theme=dark] .colab-df-generate:hover {\n",
              "        background-color: #434B5C;\n",
              "        box-shadow: 0px 1px 3px 1px rgba(0, 0, 0, 0.15);\n",
              "        filter: drop-shadow(0px 1px 2px rgba(0, 0, 0, 0.3));\n",
              "        fill: #FFFFFF;\n",
              "      }\n",
              "    </style>\n",
              "    <button class=\"colab-df-generate\" onclick=\"generateWithVariable('df')\"\n",
              "            title=\"Generate code using this dataframe.\"\n",
              "            style=\"display:none;\">\n",
              "\n",
              "  <svg xmlns=\"http://www.w3.org/2000/svg\" height=\"24px\"viewBox=\"0 0 24 24\"\n",
              "       width=\"24px\">\n",
              "    <path d=\"M7,19H8.4L18.45,9,17,7.55,7,17.6ZM5,21V16.75L18.45,3.32a2,2,0,0,1,2.83,0l1.4,1.43a1.91,1.91,0,0,1,.58,1.4,1.91,1.91,0,0,1-.58,1.4L9.25,21ZM18.45,9,17,7.55Zm-12,3A5.31,5.31,0,0,0,4.9,8.1,5.31,5.31,0,0,0,1,6.5,5.31,5.31,0,0,0,4.9,4.9,5.31,5.31,0,0,0,6.5,1,5.31,5.31,0,0,0,8.1,4.9,5.31,5.31,0,0,0,12,6.5,5.46,5.46,0,0,0,6.5,12Z\"/>\n",
              "  </svg>\n",
              "    </button>\n",
              "    <script>\n",
              "      (() => {\n",
              "      const buttonEl =\n",
              "        document.querySelector('#id_1139c23c-3281-412e-9eae-c65973e70181 button.colab-df-generate');\n",
              "      buttonEl.style.display =\n",
              "        google.colab.kernel.accessAllowed ? 'block' : 'none';\n",
              "\n",
              "      buttonEl.onclick = () => {\n",
              "        google.colab.notebook.generateWithVariable('df');\n",
              "      }\n",
              "      })();\n",
              "    </script>\n",
              "  </div>\n",
              "\n",
              "    </div>\n",
              "  </div>\n"
            ],
            "application/vnd.google.colaboratory.intrinsic+json": {
              "type": "dataframe",
              "variable_name": "df",
              "summary": "{\n  \"name\": \"df\",\n  \"rows\": 46720,\n  \"fields\": [\n    {\n      \"column\": \"age\",\n      \"properties\": {\n        \"dtype\": \"number\",\n        \"std\": 13,\n        \"min\": 17,\n        \"max\": 75,\n        \"num_unique_values\": 59,\n        \"samples\": [\n          25,\n          34,\n          19\n        ],\n        \"semantic_type\": \"\",\n        \"description\": \"\"\n      }\n    },\n    {\n      \"column\": \"workclass\",\n      \"properties\": {\n        \"dtype\": \"category\",\n        \"num_unique_values\": 7,\n        \"samples\": [\n          \"Private\",\n          \"Local-gov\",\n          \"State-gov\"\n        ],\n        \"semantic_type\": \"\",\n        \"description\": \"\"\n      }\n    },\n    {\n      \"column\": \"fnlwgt\",\n      \"properties\": {\n        \"dtype\": \"number\",\n        \"std\": 105421,\n        \"min\": 12285,\n        \"max\": 1490400,\n        \"num_unique_values\": 27355,\n        \"samples\": [\n          238267,\n          108253,\n          95246\n        ],\n        \"semantic_type\": \"\",\n        \"description\": \"\"\n      }\n    },\n    {\n      \"column\": \"educational-num\",\n      \"properties\": {\n        \"dtype\": \"number\",\n        \"std\": 2,\n        \"min\": 5,\n        \"max\": 16,\n        \"num_unique_values\": 12,\n        \"samples\": [\n          5,\n          11,\n          7\n        ],\n        \"semantic_type\": \"\",\n        \"description\": \"\"\n      }\n    },\n    {\n      \"column\": \"marital-status\",\n      \"properties\": {\n        \"dtype\": \"category\",\n        \"num_unique_values\": 7,\n        \"samples\": [\n          \"Never-married\",\n          \"Married-civ-spouse\",\n          \"Married-spouse-absent\"\n        ],\n        \"semantic_type\": \"\",\n        \"description\": \"\"\n      }\n    },\n    {\n      \"column\": \"occupation\",\n      \"properties\": {\n        \"dtype\": \"category\",\n        \"num_unique_values\": 15,\n        \"samples\": [\n          \"Craft-repair\",\n          \"Transport-moving\",\n          \"Machine-op-inspct\"\n        ],\n        \"semantic_type\": \"\",\n        \"description\": \"\"\n      }\n    },\n    {\n      \"column\": \"relationship\",\n      \"properties\": {\n        \"dtype\": \"category\",\n        \"num_unique_values\": 6,\n        \"samples\": [\n          \"Own-child\",\n          \"Husband\",\n          \"Other-relative\"\n        ],\n        \"semantic_type\": \"\",\n        \"description\": \"\"\n      }\n    },\n    {\n      \"column\": \"race\",\n      \"properties\": {\n        \"dtype\": \"category\",\n        \"num_unique_values\": 5,\n        \"samples\": [\n          \"White\",\n          \"Amer-Indian-Eskimo\",\n          \"Asian-Pac-Islander\"\n        ],\n        \"semantic_type\": \"\",\n        \"description\": \"\"\n      }\n    },\n    {\n      \"column\": \"gender\",\n      \"properties\": {\n        \"dtype\": \"category\",\n        \"num_unique_values\": 2,\n        \"samples\": [\n          \"Female\",\n          \"Male\"\n        ],\n        \"semantic_type\": \"\",\n        \"description\": \"\"\n      }\n    },\n    {\n      \"column\": \"capital-gain\",\n      \"properties\": {\n        \"dtype\": \"number\",\n        \"std\": 7564,\n        \"min\": 0,\n        \"max\": 99999,\n        \"num_unique_values\": 120,\n        \"samples\": [\n          2829,\n          10520\n        ],\n        \"semantic_type\": \"\",\n        \"description\": \"\"\n      }\n    },\n    {\n      \"column\": \"capital-loss\",\n      \"properties\": {\n        \"dtype\": \"number\",\n        \"std\": 404,\n        \"min\": 0,\n        \"max\": 4356,\n        \"num_unique_values\": 99,\n        \"samples\": [\n          2246,\n          1669\n        ],\n        \"semantic_type\": \"\",\n        \"description\": \"\"\n      }\n    },\n    {\n      \"column\": \"hours-per-week\",\n      \"properties\": {\n        \"dtype\": \"number\",\n        \"std\": 12,\n        \"min\": 1,\n        \"max\": 99,\n        \"num_unique_values\": 96,\n        \"samples\": [\n          9,\n          11\n        ],\n        \"semantic_type\": \"\",\n        \"description\": \"\"\n      }\n    },\n    {\n      \"column\": \"native-country\",\n      \"properties\": {\n        \"dtype\": \"category\",\n        \"num_unique_values\": 42,\n        \"samples\": [\n          \"Nicaragua\",\n          \"South\"\n        ],\n        \"semantic_type\": \"\",\n        \"description\": \"\"\n      }\n    },\n    {\n      \"column\": \"income\",\n      \"properties\": {\n        \"dtype\": \"category\",\n        \"num_unique_values\": 2,\n        \"samples\": [\n          \">50K\",\n          \"<=50K\"\n        ],\n        \"semantic_type\": \"\",\n        \"description\": \"\"\n      }\n    }\n  ]\n}"
            }
          },
          "metadata": {},
          "execution_count": 20
        }
      ]
    },
    {
      "cell_type": "code",
      "source": [
        "#label encoding\n",
        "categorical_cols = ['workclass', 'marital-status', 'occupation', 'relationship', 'race', 'gender', 'native-country']\n",
        "label_encoders = {}\n",
        "for col in categorical_cols:\n",
        "    le = LabelEncoder()\n",
        "    df[col] = le.fit_transform(df[col])\n",
        "    label_encoders[col] = le\n",
        "\n",
        "# Save encoders\n",
        "joblib.dump(label_encoders, \"label_encoders.pkl\")\n",
        "\n",
        "# Prepare features and target\n",
        "X = df.drop(columns=[\"income\"])\n",
        "y = df[\"income\"].apply(lambda x: 1 if x.strip() == \">50K\" else 0)\n",
        "feature_columns = X.columns.tolist()\n",
        "joblib.dump(feature_columns, \"feature_columns.pkl\")\n"
      ],
      "metadata": {
        "colab": {
          "base_uri": "https://localhost:8080/"
        },
        "id": "wx9wYT0ocTTo",
        "outputId": "68a2ec36-7fe2-44ae-8357-9af3ce95892a"
      },
      "execution_count": null,
      "outputs": [
        {
          "output_type": "execute_result",
          "data": {
            "text/plain": [
              "['feature_columns.pkl']"
            ]
          },
          "metadata": {},
          "execution_count": 19
        }
      ]
    },
    {
      "cell_type": "code",
      "source": [
        "#comparing ML ALGORITHMS\n",
        "from sklearn.model_selection import train_test_split\n",
        "from sklearn.metrics import accuracy_score, classification_report\n",
        "from sklearn.linear_model import LogisticRegression\n",
        "from sklearn.ensemble import RandomForestClassifier, GradientBoostingClassifier\n",
        "from sklearn.neighbors import KNeighborsClassifier\n",
        "from sklearn.svm import SVC\n",
        "import joblib\n",
        "\n",
        "\n",
        "X_train, X_test, y_train, y_test = train_test_split(X, y, test_size=0.2, random_state=42)\n",
        "\n",
        "models = {\n",
        "    \"LogisticRegression\": LogisticRegression(max_iter=1000),\n",
        "    \"RandomForest\": RandomForestClassifier(),\n",
        "    \"KNN\": KNeighborsClassifier(),\n",
        "    \"SVM\": SVC(),\n",
        "    \"GradientBoosting\": GradientBoostingClassifier()\n",
        "}\n",
        "\n",
        "results = {}\n",
        "\n",
        "for name, model in models.items():\n",
        "    model.fit(X_train, y_train)\n",
        "    preds = model.predict(X_test)\n",
        "    acc = accuracy_score(y_test, preds)\n",
        "    results[name] = acc\n",
        "    print(f\"{name}: {acc:.4f}\")\n",
        "    print(classification_report(y_test, preds))\n",
        "\n",
        "# Select best model\n",
        "best_model_name = max(results, key=results.get)\n",
        "best_model = models[best_model_name]\n",
        "print(f\"\\n✅ Best model: {best_model_name} with accuracy {results[best_model_name]:.4f}\")\n",
        "joblib.dump(best_model, \"best_model.pkl\")\n",
        "print(\"✅ Saved best model as best_model.pkl\")\n",
        "#visualization of model performance\n",
        "import matplotlib.pyplot as plt\n",
        "plt.bar(results.keys(), results.values(), color='skyblue')\n",
        "plt.ylabel('Accuracy Score')\n",
        "plt.title('Model Comparison')\n",
        "plt.xticks(rotation=45)\n",
        "plt.grid(True)\n",
        "plt.show()"
      ],
      "metadata": {
        "colab": {
          "base_uri": "https://localhost:8080/",
          "height": 1000
        },
        "id": "2Sk5kNHw3RrZ",
        "outputId": "1b5470ba-8c3a-4a44-9663-46a45e6129d9"
      },
      "execution_count": null,
      "outputs": [
        {
          "output_type": "stream",
          "name": "stderr",
          "text": [
            "/usr/local/lib/python3.11/dist-packages/sklearn/linear_model/_logistic.py:465: ConvergenceWarning: lbfgs failed to converge (status=1):\n",
            "STOP: TOTAL NO. OF ITERATIONS REACHED LIMIT.\n",
            "\n",
            "Increase the number of iterations (max_iter) or scale the data as shown in:\n",
            "    https://scikit-learn.org/stable/modules/preprocessing.html\n",
            "Please also refer to the documentation for alternative solver options:\n",
            "    https://scikit-learn.org/stable/modules/linear_model.html#logistic-regression\n",
            "  n_iter_i = _check_optimize_result(\n"
          ]
        },
        {
          "output_type": "stream",
          "name": "stdout",
          "text": [
            "LogisticRegression: 0.7964\n",
            "              precision    recall  f1-score   support\n",
            "\n",
            "           0       0.82      0.94      0.87      7010\n",
            "           1       0.66      0.37      0.48      2334\n",
            "\n",
            "    accuracy                           0.80      9344\n",
            "   macro avg       0.74      0.66      0.68      9344\n",
            "weighted avg       0.78      0.80      0.77      9344\n",
            "\n",
            "RandomForest: 0.8489\n",
            "              precision    recall  f1-score   support\n",
            "\n",
            "           0       0.88      0.93      0.90      7010\n",
            "           1       0.74      0.62      0.67      2334\n",
            "\n",
            "    accuracy                           0.85      9344\n",
            "   macro avg       0.81      0.77      0.79      9344\n",
            "weighted avg       0.84      0.85      0.84      9344\n",
            "\n",
            "KNN: 0.7704\n",
            "              precision    recall  f1-score   support\n",
            "\n",
            "           0       0.80      0.92      0.86      7010\n",
            "           1       0.57      0.33      0.42      2334\n",
            "\n",
            "    accuracy                           0.77      9344\n",
            "   macro avg       0.69      0.62      0.64      9344\n",
            "weighted avg       0.75      0.77      0.75      9344\n",
            "\n",
            "SVM: 0.7884\n",
            "              precision    recall  f1-score   support\n",
            "\n",
            "           0       0.78      1.00      0.88      7010\n",
            "           1       0.97      0.16      0.27      2334\n",
            "\n",
            "    accuracy                           0.79      9344\n",
            "   macro avg       0.88      0.58      0.57      9344\n",
            "weighted avg       0.83      0.79      0.73      9344\n",
            "\n",
            "GradientBoosting: 0.8571\n",
            "              precision    recall  f1-score   support\n",
            "\n",
            "           0       0.88      0.94      0.91      7010\n",
            "           1       0.78      0.60      0.68      2334\n",
            "\n",
            "    accuracy                           0.86      9344\n",
            "   macro avg       0.83      0.77      0.79      9344\n",
            "weighted avg       0.85      0.86      0.85      9344\n",
            "\n",
            "\n",
            "✅ Best model: GradientBoosting with accuracy 0.8571\n",
            "✅ Saved best model as best_model.pkl\n"
          ]
        },
        {
          "output_type": "display_data",
          "data": {
            "text/plain": [
              "<Figure size 640x480 with 1 Axes>"
            ],
            "image/png": "[encoded data removed]"
          },
          "metadata": {}
        }
      ]
    },
    {
      "cell_type": "code",
      "source": [
        "X_train, X_test, y_train, y_test = train_test_split(X, y, test_size=0.2, random_state=42)\n",
        "\n",
        "\n",
        "model = GradientBoostingClassifier()\n",
        "model.fit(X_train, y_train)\n",
        "\n",
        "\n",
        "joblib.dump(model, \"salary_model.pkl\")"
      ],
      "metadata": {
        "colab": {
          "base_uri": "https://localhost:8080/"
        },
        "id": "xqs2-0m5qXZD",
        "outputId": "8d6c198b-26f5-4118-95d7-8d488ee2d412"
      },
      "execution_count": null,
      "outputs": [
        {
          "output_type": "execute_result",
          "data": {
            "text/plain": [
              "['salary_model.pkl']"
            ]
          },
          "metadata": {},
          "execution_count": 21
        }
      ]
    },
    {
      "cell_type": "code",
      "source": [
        "!pip install gradio --quiet\n",
        "\n",
        "!pip install gradio --quiet\n",
        "\n",
        "import gradio as gr\n",
        "import os\n",
        "model = joblib.load(\"salary_model.pkl\")\n",
        "label_encoders = joblib.load(\"label_encoders.pkl\")\n",
        "feature_columns = joblib.load(\"feature_columns.pkl\")\n",
        "\n",
        "history = []\n",
        "\n",
        "def predict_salary(age, workclass, marital_status, occupation, relationship, race, gender,\n",
        "                   hours_per_week, native_country, capital_gain, capital_loss, educational_num, fnlwgt):\n",
        "    try:\n",
        "        data = pd.DataFrame([[age, workclass, marital_status, occupation, relationship, race, gender,\n",
        "                              hours_per_week, native_country, capital_gain, capital_loss, educational_num, fnlwgt]],\n",
        "                            columns=['age', 'workclass', 'marital-status', 'occupation', 'relationship', 'race', 'gender',\n",
        "                                     'hours-per-week', 'native-country', 'capital-gain', 'capital-loss', 'educational-num', 'fnlwgt'])\n",
        "\n",
        "        for col in ['workclass', 'marital-status', 'occupation', 'relationship', 'race', 'gender', 'native-country']:\n",
        "            data[col] = label_encoders[col].transform(data[col])\n",
        "\n",
        "        data = data[feature_columns]\n",
        "        pred = model.predict(data)[0]\n",
        "        result = \">50K\" if pred == 1 else \"<=50K\"\n",
        "\n",
        "        history.append({\n",
        "            \"Age\": age,\n",
        "            \"Hours\": hours_per_week,\n",
        "            \"Capital Gain\": capital_gain,\n",
        "            \"Capital Loss\": capital_loss,\n",
        "            \"Education Num\": educational_num,\n",
        "            \"fnlwgt\": fnlwgt,\n",
        "            \"Income\": result\n",
        "        })\n",
        "\n",
        "        return f\"Predicted Income: {result}\"\n",
        "    except Exception as e:\n",
        "        return f\"Error: {str(e)}\"\n",
        "\n",
        "def show_history():\n",
        "    if not history:\n",
        "        return pd.DataFrame()\n",
        "    return pd.DataFrame(history)\n",
        "\n",
        "def draw_chart():\n",
        "    if not history:\n",
        "        return None\n",
        "    latest = pd.DataFrame([list(history[-1].values())[:-1]], columns=list(history[-1].keys())[:-1])\n",
        "    avg = pd.DataFrame([{\n",
        "        \"Age\": df[\"age\"].mean(),\n",
        "        \"Hours\": df[\"hours-per-week\"].mean(),\n",
        "        \"Capital Gain\": df[\"capital-gain\"].mean(),\n",
        "        \"Capital Loss\": df[\"capital-loss\"].mean(),\n",
        "        \"Education Num\": df[\"educational-num\"].mean(),\n",
        "        \"fnlwgt\": df[\"fnlwgt\"].mean()\n",
        "    }])\n",
        "\n",
        "    plt.figure(figsize=(8, 4))\n",
        "    plt.bar(latest.columns, latest.iloc[0], label=\"Latest\", alpha=0.7, color='skyblue')\n",
        "    plt.bar(avg.columns, avg.iloc[0], label=\"Average\", alpha=0.7, color='orange')\n",
        "    plt.xticks(rotation=45)\n",
        "    plt.legend()\n",
        "    plt.title(\"Latest Input vs Average Profile\")\n",
        "    plt.tight_layout()\n",
        "\n",
        "    chart_path = \"/tmp/chart.png\"\n",
        "    plt.savefig(chart_path)\n",
        "    plt.close()\n",
        "    return chart_path\n",
        "\n",
        "with gr.Blocks(theme=gr.themes.Soft()) as demo:\n",
        "    gr.Markdown(\"\"\"\n",
        "        <div style=\"text-align:center\">\n",
        "        <h1 style=\"color:#4CAF50; font-size: 32px;\">💼 Employee Salary Predictor</h1>\n",
        "        <p style=\"font-size: 16px;\">🔍 Estimate if a person earns more than 50K using demographic and job details</p>\n",
        "        </div>\n",
        "    \"\"\")\n",
        "\n",
        "    with gr.Tab(\"FORM\"):\n",
        "        with gr.Row():\n",
        "            with gr.Column():\n",
        "                age = gr.Slider(18, 70, value=30, step=1, label=\"Age\")\n",
        "                fnlwgt = gr.Number(value=100000, label=\"fnlwgt\")\n",
        "                educational_num = gr.Slider(5, 16, value=10, step=1, label=\"Education Number\")\n",
        "                hours_per_week = gr.Slider(1, 80, value=40, step=1, label=\"Hours per Week\")\n",
        "                capital_gain = gr.Number(value=0, label=\"Capital Gain\")\n",
        "                capital_loss = gr.Number(value=0, label=\"Capital Loss\")\n",
        "                workclass = gr.Dropdown(label_encoders['workclass'].classes_.tolist(), label=\"Workclass\")\n",
        "            with gr.Column():\n",
        "                marital_status = gr.Dropdown(label_encoders['marital-status'].classes_.tolist(), label=\"Marital Status\")\n",
        "                occupation = gr.Dropdown(label_encoders['occupation'].classes_.tolist(), label=\"Occupation\")\n",
        "                relationship = gr.Dropdown(label_encoders['relationship'].classes_.tolist(), label=\"Relationship\")\n",
        "                race = gr.Dropdown(label_encoders['race'].classes_.tolist(), label=\"Race\")\n",
        "                gender = gr.Dropdown(label_encoders['gender'].classes_.tolist(), label=\"Gender\")\n",
        "                native_country = gr.Dropdown(label_encoders['native-country'].classes_.tolist(), label=\"Native Country\")\n",
        "                experience= gr.Slider(0, 100, value=50, step=1, label=\"experience\")\n",
        "\n",
        "        predict_btn = gr.Button(\"🎯 Predict Income\")\n",
        "        output = gr.Textbox(label=\"Prediction\")\n",
        "\n",
        "        predict_btn.click(\n",
        "            fn=predict_salary,\n",
        "            inputs=[age, workclass, marital_status, occupation, relationship, race, gender,\n",
        "                    hours_per_week, native_country, capital_gain, capital_loss, educational_num, fnlwgt],\n",
        "            outputs=output\n",
        "        )\n",
        "\n",
        "    with gr.Tab(\"📜 History\"):\n",
        "        show_btn = gr.Button(\"📋 Show History\")\n",
        "        history_table = gr.Dataframe()\n",
        "        show_btn.click(fn=show_history, inputs=[], outputs=history_table)\n",
        "\n",
        "    with gr.Tab(\"📈 Comparison Chart\"):\n",
        "        chart_btn = gr.Button(\"📊 Show Comparison\")\n",
        "        chart_output = gr.Image()\n",
        "        chart_btn.click(fn=draw_chart, inputs=[], outputs=chart_output)\n"
      ],
      "metadata": {
        "id": "ZvRXT4_fqo_a"
      },
      "execution_count": null,
      "outputs": []
    },
    {
      "cell_type": "code",
      "source": [
        "os.environ[\"GRADIO_SERVER_NAME\"] = \"0.0.0.0\"\n",
        "os.environ[\"GRADIO_SERVER_PORT\"] = \"7860\"\n",
        "demo.launch(share=True)\n"
      ],
      "metadata": {
        "colab": {
          "base_uri": "https://localhost:8080/",
          "height": 611
        },
        "id": "oRLuI0JwqrvN",
        "outputId": "3ef654da-a8e5-48dc-a06d-c4079d85c217"
      },
      "execution_count": null,
      "outputs": [
        {
          "output_type": "stream",
          "name": "stdout",
          "text": [
            "Colab notebook detected. To show errors in colab notebook, set debug=True in launch()\n",
            "* Running on public URL: https://0e9286adddc35b4ff9.gradio.live\n",
            "\n",
            "This share link expires in 1 week. For free permanent hosting and GPU upgrades, run `gradio deploy` from the terminal in the working directory to deploy to Hugging Face Spaces (https://huggingface.co/spaces)\n"
          ]
        },
        {
          "output_type": "display_data",
          "data": {
            "text/plain": [
              "<IPython.core.display.HTML object>"
            ],
            "text/html": [
              "<div><iframe src=\"https://0e9286adddc35b4ff9.gradio.live\" width=\"100%\" height=\"500\" allow=\"autoplay; camera; microphone; clipboard-read; clipboard-write;\" frameborder=\"0\" allowfullscreen></iframe></div>"
            ]
          },
          "metadata": {}
        },
        {
          "output_type": "execute_result",
          "data": {
            "text/plain": []
          },
          "metadata": {},
          "execution_count": 23
        }
      ]
    }
  ],
  "metadata": {
    "colab": {
      "provenance": [],
      "include_colab_link": true
    },
    "kernelspec": {
      "display_name": "Python 3",
      "name": "python3"
    }
  },
  "nbformat": 4,
  "nbformat_minor": 0
}